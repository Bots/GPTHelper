{
 "cells": [
  {
   "cell_type": "code",
   "execution_count": 1,
   "id": "c7693103",
   "metadata": {
    "ExecuteTime": {
     "end_time": "2021-10-09T05:19:12.654199Z",
     "start_time": "2021-10-09T05:19:09.678240Z"
    },
    "scrolled": true
   },
   "outputs": [
    {
     "name": "stdout",
     "output_type": "stream",
     "text": [
      "tflite optimized: 0.00296718168258667\n"
     ]
    }
   ],
   "source": [
    "import tflite_runtime.interpreter as tflite\n",
    "from time import time\n",
    "import numpy as np\n",
    "#import tensorflow as tf\n",
    "\n",
    "# TFLITE_FILE_PATH = 'logmelcalc.tflite'\n",
    "\n",
    "logmelcalc_interpreter = tflite.Interpreter(model_path=\"logmelcalc.tflite\")\n",
    "logmelcalc_interpreter.allocate_tensors()\n",
    "\n",
    "input_index = logmelcalc_interpreter.get_input_details()[0][\"index\"]\n",
    "output_details = logmelcalc_interpreter.get_output_details()\n",
    "\n",
    "s=time()\n",
    "for i in range(1000):\n",
    "    t = np.expand_dims(np.random.random(16000).astype(\"float32\"),axis=0)\n",
    "    logmelcalc_interpreter.set_tensor(input_index,t)\n",
    "    logmelcalc_interpreter.invoke()\n",
    "    output_data = logmelcalc_interpreter.get_tensor(output_details[0]['index'])\n",
    "print(\"tflite optimized:\",(time()-s)/1000)\n",
    "\n",
    "# s = time()\n",
    "# for i in range(1000):\n",
    "#     q=logmelcalc.predict(t)\n",
    "# print(\"No optimization:\",(time()-s)/1000)"
   ]
  },
  {
   "cell_type": "code",
   "execution_count": 2,
   "id": "d6b1a3eb",
   "metadata": {
    "ExecuteTime": {
     "end_time": "2021-10-09T05:19:23.239206Z",
     "start_time": "2021-10-09T05:19:17.078919Z"
    }
   },
   "outputs": [
    {
     "name": "stdout",
     "output_type": "stream",
     "text": [
      "tflite optimized: 0.006154918909072876\n"
     ]
    }
   ],
   "source": [
    "baseModel_interpreter = tflite.Interpreter(model_path=\"./baseModel_revised.tflite\")\n",
    "baseModel_interpreter.allocate_tensors()\n",
    "\n",
    "base_model_inp = baseModel_interpreter.get_input_details()\n",
    "base_model_out = baseModel_interpreter.get_output_details()\n",
    "\n",
    "s=time()\n",
    "for i in range(1000):\n",
    "    baseModel_interpreter.set_tensor(\n",
    "        base_model_inp[0][\"index\"],\n",
    "        np.expand_dims(np.random.random((98,64)),axis=(0,-1)).astype(\"float32\")\n",
    "    )\n",
    "#     t = np.expand_dims(np.random.random(16000).astype(\"float32\"),axis=0)\n",
    "#     baseModel_interpreter.set_tensor(input_index,t)\n",
    "    baseModel_interpreter.invoke()\n",
    "    output_data = baseModel_interpreter.get_tensor(base_model_out[0]['index'])\n",
    "print(\"tflite optimized:\",(time()-s)/1000)\n"
   ]
  },
  {
   "cell_type": "code",
   "execution_count": 3,
   "id": "a8fd4cd2",
   "metadata": {
    "ExecuteTime": {
     "end_time": "2021-10-09T05:19:29.161969Z",
     "start_time": "2021-10-09T05:19:29.156742Z"
    }
   },
   "outputs": [],
   "source": [
    "def audioToVector(inpAudio:np.array) -> np.array :\n",
    "    \n",
    "    logmelcalc_interpreter.set_tensor(input_index,np.expand_dims(inpAudio/inpAudio.max(),axis=0).astype(\"float32\"))\n",
    "    logmelcalc_interpreter.invoke()\n",
    "    logmel_output = logmelcalc_interpreter.get_tensor(output_details[0]['index'])\n",
    "    baseModel_interpreter.set_tensor(\n",
    "        base_model_inp[0][\"index\"],\n",
    "        np.expand_dims(logmel_output,axis=(0,-1)).astype(\"float32\")\n",
    "    )\n",
    "    baseModel_interpreter.invoke()\n",
    "    output_data = baseModel_interpreter.get_tensor(base_model_out[0]['index'])\n",
    "    \n",
    "    return output_data\n"
   ]
  },
  {
   "cell_type": "code",
   "execution_count": 4,
   "id": "08a5ad24",
   "metadata": {
    "ExecuteTime": {
     "end_time": "2021-10-09T05:19:31.805310Z",
     "start_time": "2021-10-09T05:19:31.796470Z"
    }
   },
   "outputs": [],
   "source": [
    "\n",
    "def randomCrop(x:np.array,length=16000)->np.array :\n",
    "    assert(x.shape[0]>length)\n",
    "    frontBits = random.randint(0,x.shape[0]-length) \n",
    "    return x[frontBits:frontBits+length]\n",
    "\n",
    "def addPadding(x:np.array,length=16000)->np.array :\n",
    "    assert(x.shape[0]<length)\n",
    "    bitCountToBeAdded = length - x.shape[0]\n",
    "    frontBits = random.randint(0,bitCountToBeAdded)\n",
    "    #print(frontBits, bitCountToBeAdded-frontBits)\n",
    "    new_x = np.append(np.zeros(frontBits),x)\n",
    "    new_x = np.append(new_x,np.zeros(bitCountToBeAdded-frontBits))\n",
    "    return new_x\n",
    "\n",
    "def removeExistingPadding(x:np.array)->np.array:\n",
    "    lastZeroBitBeforeAudio = 0 \n",
    "    firstZeroBitAfterAudio = len(x)\n",
    "    for i in range(len(x)):\n",
    "      if x[i]==0:\n",
    "        lastZeroBitBeforeAudio = i\n",
    "      else:\n",
    "        break\n",
    "    for i in range(len(x)-1,1,-1):\n",
    "      if x[i]==0:\n",
    "        firstZeroBitAfterAudio = i\n",
    "      else:\n",
    "        break\n",
    "    return x[lastZeroBitBeforeAudio:firstZeroBitAfterAudio]\n",
    "\n",
    "def fixPaddingIssues(x:np.array,length=16000)-> np.array:\n",
    "    x = removeExistingPadding(x)\n",
    "    #print(\"Preprocessing Shape\",x.shape[0])\n",
    "    if(x.shape[0]>16000):\n",
    "      return randomCrop(x,length=length)\n",
    "    elif(x.shape[0]<16000):\n",
    "      return addPadding(x,length=length)\n",
    "    else:\n",
    "      return x\n"
   ]
  },
  {
   "cell_type": "code",
   "execution_count": 56,
   "id": "d62159ab",
   "metadata": {
    "ExecuteTime": {
     "end_time": "2021-10-09T10:33:21.497748Z",
     "start_time": "2021-10-09T10:33:19.940318Z"
    }
   },
   "outputs": [
    {
     "name": "stderr",
     "output_type": "stream",
     "text": [
      "/media/captain-america/7c8239eb-ca13-409c-8761-c865a3119962/Programming/EfficientWord/.venv37/lib/python3.7/site-packages/librosa/core/audio.py:165: UserWarning: PySoundFile failed. Trying audioread instead.\n",
      "  warnings.warn(\"PySoundFile failed. Trying audioread instead.\")\n",
      "/media/captain-america/7c8239eb-ca13-409c-8761-c865a3119962/Programming/EfficientWord/.venv37/lib/python3.7/site-packages/librosa/core/audio.py:165: UserWarning: PySoundFile failed. Trying audioread instead.\n",
      "  warnings.warn(\"PySoundFile failed. Trying audioread instead.\")\n",
      "/media/captain-america/7c8239eb-ca13-409c-8761-c865a3119962/Programming/EfficientWord/.venv37/lib/python3.7/site-packages/librosa/core/audio.py:165: UserWarning: PySoundFile failed. Trying audioread instead.\n",
      "  warnings.warn(\"PySoundFile failed. Trying audioread instead.\")\n",
      "/media/captain-america/7c8239eb-ca13-409c-8761-c865a3119962/Programming/EfficientWord/.venv37/lib/python3.7/site-packages/librosa/core/audio.py:165: UserWarning: PySoundFile failed. Trying audioread instead.\n",
      "  warnings.warn(\"PySoundFile failed. Trying audioread instead.\")\n",
      "/media/captain-america/7c8239eb-ca13-409c-8761-c865a3119962/Programming/EfficientWord/.venv37/lib/python3.7/site-packages/librosa/core/audio.py:165: UserWarning: PySoundFile failed. Trying audioread instead.\n",
      "  warnings.warn(\"PySoundFile failed. Trying audioread instead.\")\n",
      "/media/captain-america/7c8239eb-ca13-409c-8761-c865a3119962/Programming/EfficientWord/.venv37/lib/python3.7/site-packages/librosa/core/audio.py:165: UserWarning: PySoundFile failed. Trying audioread instead.\n",
      "  warnings.warn(\"PySoundFile failed. Trying audioread instead.\")\n",
      "/media/captain-america/7c8239eb-ca13-409c-8761-c865a3119962/Programming/EfficientWord/.venv37/lib/python3.7/site-packages/librosa/core/audio.py:165: UserWarning: PySoundFile failed. Trying audioread instead.\n",
      "  warnings.warn(\"PySoundFile failed. Trying audioread instead.\")\n"
     ]
    }
   ],
   "source": [
    "from os import listdir\n",
    "from os.path import isdir\n",
    "import librosa\n",
    "\n",
    "WAKE_WORD = \"wakewords/google\"\n",
    "\n",
    "assert(isdir(WAKE_WORD))\n",
    "\n",
    "import random\n",
    "import numpy as np\n",
    "\n",
    "sound_files = sorted([ WAKE_WORD+\"/\"+x for x in listdir(WAKE_WORD) if \".mp3\" in x ])\n",
    "\n",
    "uk_embeddings = []\n",
    "us_embeddings = []\n",
    "\n",
    "embeddings = []\n",
    "\n",
    "for sound_file in sound_files:\n",
    "    x , _ = librosa.load(sound_file,sr=16000)\n",
    "    x = fixPaddingIssues(x)\n",
    "    embeddings.append(audioToVector(x)[0])\n",
    "embeddings = np.array(embeddings)"
   ]
  },
  {
   "cell_type": "code",
   "execution_count": 55,
   "id": "4af8d2f9",
   "metadata": {},
   "outputs": [
    {
     "name": "stdout",
     "output_type": "stream",
     "text": [
      "(16000,)\n"
     ]
    },
    {
     "data": {
      "text/html": [
       "\n",
       "                <audio  controls=\"controls\" >\n",
       "                    <source src=\"data:audio/wav;base64,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\" type=\"audio/wav\" />\n",
       "                    Your browser does not support the audio element.\n",
       "                </audio>\n",
       "              "
      ],
      "text/plain": [
       "<IPython.lib.display.Audio object>"
      ]
     },
     "execution_count": 55,
     "metadata": {},
     "output_type": "execute_result"
    }
   ],
   "source": [
    "x , _ = librosa.load(\"reference_audios/python/python-chittu1.wav\",sr=SAMPLE_RATE)\n",
    "t=augumentAudio(x[:SAMPLE_RATE if len(x)>SAMPLE_RATE else -1],sample_rate=SAMPLE_RATE)\n",
    "print(t.shape)\n",
    "ipd.Audio(augumentAudio(x,sample_rate=SAMPLE_RATE),rate=SAMPLE_RATE)"
   ]
  },
  {
   "cell_type": "code",
   "execution_count": 58,
   "id": "a634b274",
   "metadata": {
    "ExecuteTime": {
     "end_time": "2021-10-09T10:34:06.094811Z",
     "start_time": "2021-10-09T10:33:48.543194Z"
    },
    "code_folding": [],
    "scrolled": true
   },
   "outputs": [
    {
     "name": "stdout",
     "output_type": "stream",
     "text": [
      "Start Speaking\n",
      "Yep 0.8555049502505461\n",
      "Yep 0.9464780198452638\n",
      "Yep 0.9846356966552527\n",
      "Yep 0.9358076319176261\n",
      "Yep 0.8572522695985985\n",
      "Yep 0.9012858558609542\n",
      "Yep 0.883693771515393\n",
      "Yep 0.925247088284492\n",
      "Yep 0.9326274360112189\n",
      "Yep 0.9293416630641613\n",
      "Yep 0.8676957512217858\n",
      "Yep 0.8862979279136987\n",
      "Yep 0.9361186503545275\n",
      "Yep 0.9124970385241923\n"
     ]
    },
    {
     "ename": "KeyboardInterrupt",
     "evalue": "",
     "output_type": "error",
     "traceback": [
      "\u001b[0;31m---------------------------------------------------------------------------\u001b[0m",
      "\u001b[0;31mKeyboardInterrupt\u001b[0m                         Traceback (most recent call last)",
      "\u001b[0;32m/tmp/ipykernel_1000764/2427874226.py\u001b[0m in \u001b[0;36m<module>\u001b[0;34m\u001b[0m\n\u001b[1;32m     30\u001b[0m \u001b[0;34m\u001b[0m\u001b[0m\n\u001b[1;32m     31\u001b[0m \u001b[0;32mwhile\u001b[0m \u001b[0;32mTrue\u001b[0m \u001b[0;34m:\u001b[0m\u001b[0;34m\u001b[0m\u001b[0;34m\u001b[0m\u001b[0m\n\u001b[0;32m---> 32\u001b[0;31m     \u001b[0mdata\u001b[0m \u001b[0;34m=\u001b[0m \u001b[0mnp\u001b[0m\u001b[0;34m.\u001b[0m\u001b[0mfrombuffer\u001b[0m\u001b[0;34m(\u001b[0m\u001b[0mstream\u001b[0m\u001b[0;34m.\u001b[0m\u001b[0mread\u001b[0m\u001b[0;34m(\u001b[0m\u001b[0mCHUNK\u001b[0m\u001b[0;34m)\u001b[0m\u001b[0;34m,\u001b[0m\u001b[0mdtype\u001b[0m\u001b[0;34m=\u001b[0m\u001b[0mnp\u001b[0m\u001b[0;34m.\u001b[0m\u001b[0mint16\u001b[0m\u001b[0;34m)\u001b[0m\u001b[0;34m\u001b[0m\u001b[0;34m\u001b[0m\u001b[0m\n\u001b[0m\u001b[1;32m     33\u001b[0m     \u001b[0minpAudio\u001b[0m \u001b[0;34m=\u001b[0m \u001b[0mnp\u001b[0m\u001b[0;34m.\u001b[0m\u001b[0mappend\u001b[0m\u001b[0;34m(\u001b[0m\u001b[0minpAudio\u001b[0m\u001b[0;34m[\u001b[0m\u001b[0mCHUNK\u001b[0m\u001b[0;34m:\u001b[0m\u001b[0;34m]\u001b[0m\u001b[0;34m,\u001b[0m\u001b[0mdata\u001b[0m\u001b[0;34m)\u001b[0m\u001b[0;34m\u001b[0m\u001b[0;34m\u001b[0m\u001b[0m\n\u001b[1;32m     34\u001b[0m     \u001b[0;31m#copy = inpAudio.copy()\u001b[0m\u001b[0;34m\u001b[0m\u001b[0;34m\u001b[0m\u001b[0;34m\u001b[0m\u001b[0m\n",
      "\u001b[0;32m/media/captain-america/7c8239eb-ca13-409c-8761-c865a3119962/Programming/EfficientWord/.venv37/lib/python3.7/site-packages/pyaudio.py\u001b[0m in \u001b[0;36mread\u001b[0;34m(self, num_frames, exception_on_overflow)\u001b[0m\n\u001b[1;32m    606\u001b[0m                           paCanNotReadFromAnOutputOnlyStream)\n\u001b[1;32m    607\u001b[0m \u001b[0;34m\u001b[0m\u001b[0m\n\u001b[0;32m--> 608\u001b[0;31m         \u001b[0;32mreturn\u001b[0m \u001b[0mpa\u001b[0m\u001b[0;34m.\u001b[0m\u001b[0mread_stream\u001b[0m\u001b[0;34m(\u001b[0m\u001b[0mself\u001b[0m\u001b[0;34m.\u001b[0m\u001b[0m_stream\u001b[0m\u001b[0;34m,\u001b[0m \u001b[0mnum_frames\u001b[0m\u001b[0;34m,\u001b[0m \u001b[0mexception_on_overflow\u001b[0m\u001b[0;34m)\u001b[0m\u001b[0;34m\u001b[0m\u001b[0;34m\u001b[0m\u001b[0m\n\u001b[0m\u001b[1;32m    609\u001b[0m \u001b[0;34m\u001b[0m\u001b[0m\n\u001b[1;32m    610\u001b[0m     \u001b[0;32mdef\u001b[0m \u001b[0mget_read_available\u001b[0m\u001b[0;34m(\u001b[0m\u001b[0mself\u001b[0m\u001b[0;34m)\u001b[0m\u001b[0;34m:\u001b[0m\u001b[0;34m\u001b[0m\u001b[0;34m\u001b[0m\u001b[0m\n",
      "\u001b[0;31mKeyboardInterrupt\u001b[0m: "
     ]
    }
   ],
   "source": [
    "import pyaudio\n",
    "import numpy as np\n",
    "from time import time, sleep\n",
    "# import cv2\n",
    "from IPython.display import clear_output\n",
    "from matplotlib import pyplot as plt\n",
    "import IPython.display as ipd\n",
    "import librosa.display\n",
    "\n",
    "CHUNK = 2000\n",
    "RATE = 16000\n",
    "SECOND = 30\n",
    "p=pyaudio.PyAudio()\n",
    "stream=p.open(format=pyaudio.paInt16,channels=1,rate=RATE,input=True,\n",
    "              frames_per_buffer=CHUNK)\n",
    "\n",
    "inpAudio = np.zeros(RATE)\n",
    "\n",
    "print(\"Start Speaking\")\n",
    "#for i in range(int(SECOND*RATE/CHUNK)): #go for a few seconds\n",
    "\n",
    "def mapToConfidence(array: np.array, threshold = 0.25):\n",
    "    array[array>threshold] = threshold\n",
    "    conf = (threshold - array)/threshold\n",
    "    \n",
    "    out = 0.0\n",
    "    for i in conf :\n",
    "        out += (1-out)*i\n",
    "    return out\n",
    "\n",
    "while True :\n",
    "    data = np.frombuffer(stream.read(CHUNK),dtype=np.int16)\n",
    "    inpAudio = np.append(inpAudio[CHUNK:],data)\n",
    "    #copy = inpAudio.copy()\n",
    "        #dist = np.linalg.norm(reference_embedding,realtime_embedding)        \n",
    "    \"\"\"\n",
    "    realtime_embedding = audioToVector(inpAudio)\n",
    "    realtime_dist = np.sqrt(np.sum((mean_embeddings - realtime_embedding)**2,axis=1))\n",
    "    #print(realtime_dist)\n",
    "    if((realtime_dist<thresholds).any()):\n",
    "        print(\"Yes\",np.min(realtime_dist),np.argmin(realtime_dist))\n",
    "    \"\"\"\n",
    "    \n",
    "    \n",
    "    #realtime_dist = np.sqrt(np.sum((embeddings - realtime_embedding)**2,axis=1))\n",
    "    #    #print(realtime_dist)\n",
    "    #if((realtime_dist<0.1).any()):\n",
    "    #    print(\"Yes\",np.min(realtime_dist),np.argmin(realtime_dist))\n",
    "    \n",
    "    copy = inpAudio.copy()\n",
    "    upperPoint = max( \n",
    "        (\n",
    "            inpAudio/inpAudio.max()\n",
    "        )[:1600]\n",
    "    )\n",
    "    if (upperPoint <= 0.2):\n",
    "        realtime_embedding = audioToVector(inpAudio)\n",
    "        realtime_dist = np.sqrt(np.sum((embeddings - realtime_embedding)**2,axis=1))\n",
    "        confidence = mapToConfidence(np.sort(realtime_dist)[:3])\n",
    "        #print(confidence)\n",
    "        if(confidence>0.85):\n",
    "            print(\"Yep\",confidence)\n",
    "        \n",
    "    \n",
    "print(output_data.shape)\n"
   ]
  },
  {
   "cell_type": "code",
   "execution_count": null,
   "id": "00a58714",
   "metadata": {},
   "outputs": [],
   "source": []
  }
 ],
 "metadata": {
  "kernelspec": {
   "display_name": "Python 3 (ipykernel)",
   "language": "python",
   "name": "python3"
  },
  "language_info": {
   "codemirror_mode": {
    "name": "ipython",
    "version": 3
   },
   "file_extension": ".py",
   "mimetype": "text/x-python",
   "name": "python",
   "nbconvert_exporter": "python",
   "pygments_lexer": "ipython3",
   "version": "3.7.12"
  },
  "varInspector": {
   "cols": {
    "lenName": 16,
    "lenType": 16,
    "lenVar": 40
   },
   "kernels_config": {
    "python": {
     "delete_cmd_postfix": "",
     "delete_cmd_prefix": "del ",
     "library": "var_list.py",
     "varRefreshCmd": "print(var_dic_list())"
    },
    "r": {
     "delete_cmd_postfix": ") ",
     "delete_cmd_prefix": "rm(",
     "library": "var_list.r",
     "varRefreshCmd": "cat(var_dic_list()) "
    }
   },
   "types_to_exclude": [
    "module",
    "function",
    "builtin_function_or_method",
    "instance",
    "_Feature"
   ],
   "window_display": false
  }
 },
 "nbformat": 4,
 "nbformat_minor": 5
}
